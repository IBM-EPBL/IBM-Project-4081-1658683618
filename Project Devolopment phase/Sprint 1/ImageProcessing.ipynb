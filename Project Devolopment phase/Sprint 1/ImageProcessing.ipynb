{
  "cells": [
    {
      "cell_type": "code",
      "execution_count": 2,
      "id": "c5de0aae",
      "metadata": {
        "id": "c5de0aae"
      },
      "outputs": [],
      "source": [
        "from keras.preprocessing.image import ImageDataGenerator"
      ]
    },
    {
      "cell_type": "code",
      "source": [
        "from google.colab import drive\n",
        "drive.mount('/content/drive')"
      ],
      "metadata": {
        "colab": {
          "base_uri": "https://localhost:8080/"
        },
        "id": "7xauXhHa6fP6",
        "outputId": "57901c1e-3ba5-455c-9f88-3cb050480151"
      },
      "id": "7xauXhHa6fP6",
      "execution_count": 1,
      "outputs": [
        {
          "output_type": "stream",
          "name": "stdout",
          "text": [
            "Mounted at /content/drive\n"
          ]
        }
      ]
    },
    {
      "cell_type": "code",
      "execution_count": 3,
      "id": "7cb612f6",
      "metadata": {
        "id": "7cb612f6"
      },
      "outputs": [],
      "source": [
        "train_datagen = ImageDataGenerator (rescale = 1./255, shear_range= 0.2,zoom_range= 0.2, horizontal_flip = True)"
      ]
    },
    {
      "cell_type": "code",
      "execution_count": 4,
      "id": "8af434e2",
      "metadata": {
        "id": "8af434e2"
      },
      "outputs": [],
      "source": [
        "test_datagen =ImageDataGenerator (rescale = 1)"
      ]
    },
    {
      "cell_type": "code",
      "execution_count": 5,
      "id": "624e58e2",
      "metadata": {
        "colab": {
          "base_uri": "https://localhost:8080/"
        },
        "id": "624e58e2",
        "outputId": "d7fb7865-1637-440a-b633-33cb2d5306fc"
      },
      "outputs": [
        {
          "output_type": "stream",
          "name": "stdout",
          "text": [
            "Found 11386 images belonging to 9 classes.\n",
            "Found 3416 images belonging to 9 classes.\n"
          ]
        }
      ],
      "source": [
        "x_train = train_datagen.flow_from_directory(r'/content/drive/MyDrive/NALAYATHIRAN_PLANT/DATASET/Dataset Plant Disease/Veg-dataset/Veg-dataset/train_set',target_size = (128,128), batch_size = 32, class_mode = 'categorical')\n",
        "x_test = test_datagen.flow_from_directory(r'/content/drive/MyDrive/NALAYATHIRAN_PLANT/DATASET/Dataset Plant Disease/Veg-dataset/Veg-dataset/test_set',target_size = (128,128), batch_size = 32, class_mode = 'categorical')"
      ]
    },
    {
      "cell_type": "code",
      "execution_count": 6,
      "id": "aecb50e7",
      "metadata": {
        "colab": {
          "base_uri": "https://localhost:8080/"
        },
        "id": "aecb50e7",
        "outputId": "557d06d5-dd12-4ce2-dd8d-8d0c8d8b9410"
      },
      "outputs": [
        {
          "output_type": "stream",
          "name": "stdout",
          "text": [
            "Found 5384 images belonging to 6 classes.\n",
            "Found 1686 images belonging to 6 classes.\n"
          ]
        }
      ],
      "source": [
        "x_train = train_datagen.flow_from_directory(r'/content/drive/MyDrive/NALAYATHIRAN_PLANT/DATASET/Dataset Plant Disease/fruit-dataset/fruit-dataset/train',target_size = (128,128), batch_size = 32, class_mode = 'categorical')\n",
        "x_test = test_datagen.flow_from_directory(r'/content/drive/MyDrive/NALAYATHIRAN_PLANT/DATASET/Dataset Plant Disease/fruit-dataset/fruit-dataset/test',target_size = (128,128), batch_size = 32, class_mode = 'categorical')"
      ]
    }
  ],
  "metadata": {
    "kernelspec": {
      "display_name": "Python 3 (ipykernel)",
      "language": "python",
      "name": "python3"
    },
    "language_info": {
      "codemirror_mode": {
        "name": "ipython",
        "version": 3
      },
      "file_extension": ".py",
      "mimetype": "text/x-python",
      "name": "python",
      "nbconvert_exporter": "python",
      "pygments_lexer": "ipython3",
      "version": "3.10.8"
    },
    "colab": {
      "provenance": []
    }
  },
  "nbformat": 4,
  "nbformat_minor": 5
}