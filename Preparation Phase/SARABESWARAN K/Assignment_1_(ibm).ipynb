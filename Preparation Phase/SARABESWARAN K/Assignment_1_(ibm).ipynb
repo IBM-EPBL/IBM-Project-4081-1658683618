{
  "nbformat": 4,
  "nbformat_minor": 0,
  "metadata": {
    "colab": {
      "provenance": []
    },
    "kernelspec": {
      "name": "python3",
      "display_name": "Python 3"
    },
    "language_info": {
      "name": "python"
    }
  },
  "cells": [
    {
      "cell_type": "markdown",
      "source": [
        "**1) Write a program which will find all such numbers which are divisible by 7 but are not a multiple of 5, between 2000 and 3200 (both included).The numbers obtained should be printed in a comma-separated sequence on a single line.**\n",
        "\n"
      ],
      "metadata": {
        "id": "BdO_kZ4NySR9"
      }
    },
    {
      "cell_type": "markdown",
      "source": [
        "**Using for loops**"
      ],
      "metadata": {
        "id": "KCAqwWe3zIf9"
      }
    },
    {
      "cell_type": "code",
      "source": [
        "for i in range(2000,3201):\n",
        "    if i%7 == 0 and i%5!=0:\n",
        "        print(i,end=',')\n",
        "print(\"\\b\")"
      ],
      "metadata": {
        "colab": {
          "base_uri": "https://localhost:8080/"
        },
        "id": "yejCSfHDzD4X",
        "outputId": "21ade6df-5635-420b-8c52-d92040cc3947"
      },
      "execution_count": null,
      "outputs": [
        {
          "output_type": "stream",
          "name": "stdout",
          "text": [
            "2002,2009,2016,2023,2037,2044,2051,2058,2072,2079,2086,2093,2107,2114,2121,2128,2142,2149,2156,2163,2177,2184,2191,2198,2212,2219,2226,2233,2247,2254,2261,2268,2282,2289,2296,2303,2317,2324,2331,2338,2352,2359,2366,2373,2387,2394,2401,2408,2422,2429,2436,2443,2457,2464,2471,2478,2492,2499,2506,2513,2527,2534,2541,2548,2562,2569,2576,2583,2597,2604,2611,2618,2632,2639,2646,2653,2667,2674,2681,2688,2702,2709,2716,2723,2737,2744,2751,2758,2772,2779,2786,2793,2807,2814,2821,2828,2842,2849,2856,2863,2877,2884,2891,2898,2912,2919,2926,2933,2947,2954,2961,2968,2982,2989,2996,3003,3017,3024,3031,3038,3052,3059,3066,3073,3087,3094,3101,3108,3122,3129,3136,3143,3157,3164,3171,3178,3192,3199,\b\n"
          ]
        }
      ]
    },
    {
      "cell_type": "markdown",
      "source": [
        "**Using generators and list comprehension**"
      ],
      "metadata": {
        "id": "-y5ntsylzR1l"
      }
    },
    {
      "cell_type": "code",
      "source": [
        "print(*(i for i in range(2000, 3201) if i%7 == 0 and i%5 != 0), sep=\",\")"
      ],
      "metadata": {
        "colab": {
          "base_uri": "https://localhost:8080/"
        },
        "id": "uxgz_7N5zTQ9",
        "outputId": "3eda3aea-a287-4198-c448-11db53b7eac2"
      },
      "execution_count": null,
      "outputs": [
        {
          "output_type": "stream",
          "name": "stdout",
          "text": [
            "2002,2009,2016,2023,2037,2044,2051,2058,2072,2079,2086,2093,2107,2114,2121,2128,2142,2149,2156,2163,2177,2184,2191,2198,2212,2219,2226,2233,2247,2254,2261,2268,2282,2289,2296,2303,2317,2324,2331,2338,2352,2359,2366,2373,2387,2394,2401,2408,2422,2429,2436,2443,2457,2464,2471,2478,2492,2499,2506,2513,2527,2534,2541,2548,2562,2569,2576,2583,2597,2604,2611,2618,2632,2639,2646,2653,2667,2674,2681,2688,2702,2709,2716,2723,2737,2744,2751,2758,2772,2779,2786,2793,2807,2814,2821,2828,2842,2849,2856,2863,2877,2884,2891,2898,2912,2919,2926,2933,2947,2954,2961,2968,2982,2989,2996,3003,3017,3024,3031,3038,3052,3059,3066,3073,3087,3094,3101,3108,3122,3129,3136,3143,3157,3164,3171,3178,3192,3199\n"
          ]
        }
      ]
    },
    {
      "cell_type": "markdown",
      "source": [
        "**2) With a given integral number n, write a program to generate a dictionary that contains (i, i*i) such that is an integral number between 1 and n (both included). and then the program should print the dictionary.**\n",
        "\n",
        "**Suppose the following input is supplied to the program:\n",
        "8**\n"
      ],
      "metadata": {
        "id": "pm8sc8RVzxBE"
      }
    },
    {
      "cell_type": "markdown",
      "source": [
        "**Using for loop**"
      ],
      "metadata": {
        "id": "41ZvfM5Hz4HV"
      }
    },
    {
      "cell_type": "code",
      "source": [
        "n = int(input())\n",
        "ans = {}\n",
        "for i in range (1,n+1):\n",
        "    ans[i] = i * i\n",
        "print(ans)"
      ],
      "metadata": {
        "colab": {
          "base_uri": "https://localhost:8080/"
        },
        "id": "9vs2EaJOzNea",
        "outputId": "086e51b7-f13e-4d20-8e9f-daedf1cd81f8"
      },
      "execution_count": null,
      "outputs": [
        {
          "output_type": "stream",
          "name": "stdout",
          "text": [
            "1\n",
            "{1: 1}\n"
          ]
        }
      ]
    },
    {
      "cell_type": "markdown",
      "source": [
        "**Using dictionary comprehension**\n",
        "\n",
        "\n",
        "\n"
      ],
      "metadata": {
        "id": "MsnMlr6Y0XJE"
      }
    },
    {
      "cell_type": "code",
      "source": [
        "n = int(input())\n",
        "ans={i : i*i for i in range(1,n+1)}\n",
        "print(ans)"
      ],
      "metadata": {
        "colab": {
          "base_uri": "https://localhost:8080/"
        },
        "id": "wT_uO5-o0biH",
        "outputId": "f28aab09-ecc9-4d6c-edb9-42aa5ee5d1ea"
      },
      "execution_count": null,
      "outputs": [
        {
          "output_type": "stream",
          "name": "stdout",
          "text": [
            "3\n",
            "{1: 1, 2: 4, 3: 9}\n"
          ]
        }
      ]
    },
    {
      "cell_type": "code",
      "source": [
        "\n",
        "try:\n",
        "    num = int(input(\"Enter a number: \"))\n",
        "except ValueError as err:\n",
        "    print(err)\n",
        "\n",
        "dic = dict()\n",
        "for i in range(num+1):\n",
        "    if i == 0:\n",
        "        continue\n",
        "    else:\n",
        "      dic[i] = i * i\n",
        "print(dic)"
      ],
      "metadata": {
        "colab": {
          "base_uri": "https://localhost:8080/"
        },
        "id": "BWcjT-kF1lDX",
        "outputId": "5f9a012b-124c-4860-f6ff-b5bfd5fe6863"
      },
      "execution_count": null,
      "outputs": [
        {
          "output_type": "stream",
          "name": "stdout",
          "text": [
            "Enter a number: 8\n",
            "{1: 1, 2: 4, 3: 9, 4: 16, 5: 25, 6: 36, 7: 49, 8: 64}\n"
          ]
        }
      ]
    },
    {
      "cell_type": "code",
      "source": [
        "num = int(input(\"Number: \"))\n",
        "print(dict(enumerate([i*i for i in range(1, num+1)], 1)))"
      ],
      "metadata": {
        "colab": {
          "base_uri": "https://localhost:8080/"
        },
        "id": "i7vvIS7ayUsQ",
        "outputId": "b632beb3-21da-4779-9a9e-908af70f9847"
      },
      "execution_count": null,
      "outputs": [
        {
          "output_type": "stream",
          "name": "stdout",
          "text": [
            "Number: 6\n",
            "{1: 1, 2: 4, 3: 9, 4: 16, 5: 25, 6: 36}\n"
          ]
        }
      ]
    }
  ]
}